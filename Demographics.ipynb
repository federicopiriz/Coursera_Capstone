{
    "cells": [
        {
            "metadata": {
                "collapsed": true
            },
            "cell_type": "markdown",
            "source": "# The Battle of the Neighborhoods - Week 2\n\n### Part 2 Web scrapping of Population and Demographics data of New York city from Wikipedia\n\nA : POPULATION DATA\n\nWeb scrapping of Population data from wikipedia page - https://en.wikipedia.org/wiki/New_York_City"
        },
        {
            "metadata": {},
            "cell_type": "code",
            "source": "import numpy as np # library to handle data in a vectorized manner\n\nimport pandas as pd # library for data analsysis\npd.set_option('display.max_columns', None)\npd.set_option('display.max_rows', None)\n\nimport json # library to handle JSON files\n\n#!conda install -c conda-forge geopy --yes\nfrom geopy.geocoders import Nominatim\n\nimport requests # library to handle requests\nfrom pandas.io.json import json_normalize # tranform JSON file into a pandas dataframe\n\n# Matplotlib and associated plotting modules\nimport matplotlib.cm as cm\nimport matplotlib.colors as colors\nimport matplotlib.pyplot as plt\n\n# conda install -c anaconda beautiful-soup --yes\nfrom bs4 import BeautifulSoup # package for parsing HTML and XML documents\n\nimport csv # implements classes to read and write tabular data in CSV form\n\nprint('Libraries imported.')",
            "execution_count": 1,
            "outputs": [
                {
                    "output_type": "stream",
                    "text": "Libraries imported.\n",
                    "name": "stdout"
                }
            ]
        },
        {
            "metadata": {},
            "cell_type": "markdown",
            "source": "\nWeb scrapping of Population data from wikipedia page using BeautifulSoup"
        },
        {
            "metadata": {},
            "cell_type": "code",
            "source": "website_url = requests.get('https://en.wikipedia.org/wiki/Demographics_of_New_York_City').text\nsoup = BeautifulSoup(website_url,'lxml')\ntable = soup.find('table',{'class':'wikitable sortable'})\n#print(soup.prettify())\n\nheaders = [header.text for header in table.find_all('th')]\n\ntable_rows = table.find_all('tr')        \nrows = []\nfor row in table_rows:\n   td = row.find_all('td')\n   row = [row.text for row in td]\n   rows.append(row)\n\nwith open('BON2_POPULATION1.csv', 'w') as f:\n   writer = csv.writer(f)\n   writer.writerow(headers)\n   writer.writerows(row for row in rows if row)",
            "execution_count": 2,
            "outputs": []
        },
        {
            "metadata": {},
            "cell_type": "code",
            "source": "Pop_data=pd.read_csv('BON2_POPULATION1.csv')\nPop_data.drop(Pop_data.columns[[7,8,9,10,11]], axis=1,inplace=True)\nprint('Data downloaded!')",
            "execution_count": 3,
            "outputs": [
                {
                    "output_type": "stream",
                    "text": "Data downloaded!\n",
                    "name": "stdout"
                }
            ]
        },
        {
            "metadata": {},
            "cell_type": "code",
            "source": "Pop_data.columns = Pop_data.columns.str.replace(' ', '')\nPop_data.columns = Pop_data.columns.str.replace('\\'','')\nPop_data.rename(columns={'Borough':'persons_sq_mi','County':'persons_sq_km'}, inplace=True)\nPop_data",
            "execution_count": 4,
            "outputs": [
                {
                    "output_type": "execute_result",
                    "execution_count": 4,
                    "data": {
                        "text/plain": "                       NewYorkCitysfiveboroughsvte\\n   Jurisdiction\\n  \\\n0                                        The Bronx\\n      \\n  Bronx\\n   \n1                                         Brooklyn\\n      \\n  Kings\\n   \n2                                        Manhattan\\n   \\n  New York\\n   \n3                                           Queens\\n    \\n   Queens\\n   \n4                                    Staten Island\\n  \\n   Richmond\\n   \n5                                   City of New York        8,336,817   \n6                                  State of New York       19,453,561   \n7  Sources:[12][13][14] and see individual boroug...              NaN   \n\n  Population\\n      GDP\\n  Landarea\\n Density\\n persons_sq_mi  persons/mi2  \\\n0  1,418,207\\n   42.695\\n     42.10\\n  109.04\\n      33,867\\n          NaN   \n1  2,559,903\\n   91.559\\n     70.82\\n  183.42\\n      36,147\\n          NaN   \n2  1,628,706\\n  600.244\\n     22.83\\n   59.13\\n      71,341\\n          NaN   \n3  2,253,858\\n   93.310\\n    108.53\\n  281.09\\n      20,767\\n          NaN   \n4    476,143\\n   14.514\\n     58.37\\n  151.18\\n       8,157\\n          NaN   \n5      842.343     302.64      783.83    27,547      10,636\\n          NaN   \n6    1,731.910  47,126.40  122,056.82       412         159\\n          NaN   \n7          NaN        NaN         NaN       NaN           NaN          NaN   \n\n   persons/km2\\n  \n0            NaN  \n1            NaN  \n2            NaN  \n3            NaN  \n4            NaN  \n5            NaN  \n6            NaN  \n7            NaN  ",
                        "text/html": "<div>\n<style scoped>\n    .dataframe tbody tr th:only-of-type {\n        vertical-align: middle;\n    }\n\n    .dataframe tbody tr th {\n        vertical-align: top;\n    }\n\n    .dataframe thead th {\n        text-align: right;\n    }\n</style>\n<table border=\"1\" class=\"dataframe\">\n  <thead>\n    <tr style=\"text-align: right;\">\n      <th></th>\n      <th>NewYorkCitysfiveboroughsvte\\n</th>\n      <th>Jurisdiction\\n</th>\n      <th>Population\\n</th>\n      <th>GDP\\n</th>\n      <th>Landarea\\n</th>\n      <th>Density\\n</th>\n      <th>persons_sq_mi</th>\n      <th>persons/mi2</th>\n      <th>persons/km2\\n</th>\n    </tr>\n  </thead>\n  <tbody>\n    <tr>\n      <th>0</th>\n      <td>The Bronx\\n</td>\n      <td>\\n  Bronx\\n</td>\n      <td>1,418,207\\n</td>\n      <td>42.695\\n</td>\n      <td>42.10\\n</td>\n      <td>109.04\\n</td>\n      <td>33,867\\n</td>\n      <td>NaN</td>\n      <td>NaN</td>\n    </tr>\n    <tr>\n      <th>1</th>\n      <td>Brooklyn\\n</td>\n      <td>\\n  Kings\\n</td>\n      <td>2,559,903\\n</td>\n      <td>91.559\\n</td>\n      <td>70.82\\n</td>\n      <td>183.42\\n</td>\n      <td>36,147\\n</td>\n      <td>NaN</td>\n      <td>NaN</td>\n    </tr>\n    <tr>\n      <th>2</th>\n      <td>Manhattan\\n</td>\n      <td>\\n  New York\\n</td>\n      <td>1,628,706\\n</td>\n      <td>600.244\\n</td>\n      <td>22.83\\n</td>\n      <td>59.13\\n</td>\n      <td>71,341\\n</td>\n      <td>NaN</td>\n      <td>NaN</td>\n    </tr>\n    <tr>\n      <th>3</th>\n      <td>Queens\\n</td>\n      <td>\\n   Queens\\n</td>\n      <td>2,253,858\\n</td>\n      <td>93.310\\n</td>\n      <td>108.53\\n</td>\n      <td>281.09\\n</td>\n      <td>20,767\\n</td>\n      <td>NaN</td>\n      <td>NaN</td>\n    </tr>\n    <tr>\n      <th>4</th>\n      <td>Staten Island\\n</td>\n      <td>\\n   Richmond\\n</td>\n      <td>476,143\\n</td>\n      <td>14.514\\n</td>\n      <td>58.37\\n</td>\n      <td>151.18\\n</td>\n      <td>8,157\\n</td>\n      <td>NaN</td>\n      <td>NaN</td>\n    </tr>\n    <tr>\n      <th>5</th>\n      <td>City of New York</td>\n      <td>8,336,817</td>\n      <td>842.343</td>\n      <td>302.64</td>\n      <td>783.83</td>\n      <td>27,547</td>\n      <td>10,636\\n</td>\n      <td>NaN</td>\n      <td>NaN</td>\n    </tr>\n    <tr>\n      <th>6</th>\n      <td>State of New York</td>\n      <td>19,453,561</td>\n      <td>1,731.910</td>\n      <td>47,126.40</td>\n      <td>122,056.82</td>\n      <td>412</td>\n      <td>159\\n</td>\n      <td>NaN</td>\n      <td>NaN</td>\n    </tr>\n    <tr>\n      <th>7</th>\n      <td>Sources:[12][13][14] and see individual boroug...</td>\n      <td>NaN</td>\n      <td>NaN</td>\n      <td>NaN</td>\n      <td>NaN</td>\n      <td>NaN</td>\n      <td>NaN</td>\n      <td>NaN</td>\n      <td>NaN</td>\n    </tr>\n  </tbody>\n</table>\n</div>"
                    },
                    "metadata": {}
                }
            ]
        },
        {
            "metadata": {},
            "cell_type": "code",
            "source": "Pop_data.rename(columns = {'NewYorkCitysfiveboroughsvte\\n' : 'Borough',\n                   'Jurisdiction\\n':'County',\n                   'Population\\n':'Estimate_2017', \n                   'Landarea\\n':'square_miles',\n                    'Density\\n':'square_km'}, inplace=True)\nPop_data",
            "execution_count": 5,
            "outputs": [
                {
                    "output_type": "execute_result",
                    "execution_count": 5,
                    "data": {
                        "text/plain": "                                             Borough           County  \\\n0                                        The Bronx\\n      \\n  Bronx\\n   \n1                                         Brooklyn\\n      \\n  Kings\\n   \n2                                        Manhattan\\n   \\n  New York\\n   \n3                                           Queens\\n    \\n   Queens\\n   \n4                                    Staten Island\\n  \\n   Richmond\\n   \n5                                   City of New York        8,336,817   \n6                                  State of New York       19,453,561   \n7  Sources:[12][13][14] and see individual boroug...              NaN   \n\n  Estimate_2017      GDP\\n square_miles square_km persons_sq_mi  persons/mi2  \\\n0   1,418,207\\n   42.695\\n      42.10\\n  109.04\\n      33,867\\n          NaN   \n1   2,559,903\\n   91.559\\n      70.82\\n  183.42\\n      36,147\\n          NaN   \n2   1,628,706\\n  600.244\\n      22.83\\n   59.13\\n      71,341\\n          NaN   \n3   2,253,858\\n   93.310\\n     108.53\\n  281.09\\n      20,767\\n          NaN   \n4     476,143\\n   14.514\\n      58.37\\n  151.18\\n       8,157\\n          NaN   \n5       842.343     302.64       783.83    27,547      10,636\\n          NaN   \n6     1,731.910  47,126.40   122,056.82       412         159\\n          NaN   \n7           NaN        NaN          NaN       NaN           NaN          NaN   \n\n   persons/km2\\n  \n0            NaN  \n1            NaN  \n2            NaN  \n3            NaN  \n4            NaN  \n5            NaN  \n6            NaN  \n7            NaN  ",
                        "text/html": "<div>\n<style scoped>\n    .dataframe tbody tr th:only-of-type {\n        vertical-align: middle;\n    }\n\n    .dataframe tbody tr th {\n        vertical-align: top;\n    }\n\n    .dataframe thead th {\n        text-align: right;\n    }\n</style>\n<table border=\"1\" class=\"dataframe\">\n  <thead>\n    <tr style=\"text-align: right;\">\n      <th></th>\n      <th>Borough</th>\n      <th>County</th>\n      <th>Estimate_2017</th>\n      <th>GDP\\n</th>\n      <th>square_miles</th>\n      <th>square_km</th>\n      <th>persons_sq_mi</th>\n      <th>persons/mi2</th>\n      <th>persons/km2\\n</th>\n    </tr>\n  </thead>\n  <tbody>\n    <tr>\n      <th>0</th>\n      <td>The Bronx\\n</td>\n      <td>\\n  Bronx\\n</td>\n      <td>1,418,207\\n</td>\n      <td>42.695\\n</td>\n      <td>42.10\\n</td>\n      <td>109.04\\n</td>\n      <td>33,867\\n</td>\n      <td>NaN</td>\n      <td>NaN</td>\n    </tr>\n    <tr>\n      <th>1</th>\n      <td>Brooklyn\\n</td>\n      <td>\\n  Kings\\n</td>\n      <td>2,559,903\\n</td>\n      <td>91.559\\n</td>\n      <td>70.82\\n</td>\n      <td>183.42\\n</td>\n      <td>36,147\\n</td>\n      <td>NaN</td>\n      <td>NaN</td>\n    </tr>\n    <tr>\n      <th>2</th>\n      <td>Manhattan\\n</td>\n      <td>\\n  New York\\n</td>\n      <td>1,628,706\\n</td>\n      <td>600.244\\n</td>\n      <td>22.83\\n</td>\n      <td>59.13\\n</td>\n      <td>71,341\\n</td>\n      <td>NaN</td>\n      <td>NaN</td>\n    </tr>\n    <tr>\n      <th>3</th>\n      <td>Queens\\n</td>\n      <td>\\n   Queens\\n</td>\n      <td>2,253,858\\n</td>\n      <td>93.310\\n</td>\n      <td>108.53\\n</td>\n      <td>281.09\\n</td>\n      <td>20,767\\n</td>\n      <td>NaN</td>\n      <td>NaN</td>\n    </tr>\n    <tr>\n      <th>4</th>\n      <td>Staten Island\\n</td>\n      <td>\\n   Richmond\\n</td>\n      <td>476,143\\n</td>\n      <td>14.514\\n</td>\n      <td>58.37\\n</td>\n      <td>151.18\\n</td>\n      <td>8,157\\n</td>\n      <td>NaN</td>\n      <td>NaN</td>\n    </tr>\n    <tr>\n      <th>5</th>\n      <td>City of New York</td>\n      <td>8,336,817</td>\n      <td>842.343</td>\n      <td>302.64</td>\n      <td>783.83</td>\n      <td>27,547</td>\n      <td>10,636\\n</td>\n      <td>NaN</td>\n      <td>NaN</td>\n    </tr>\n    <tr>\n      <th>6</th>\n      <td>State of New York</td>\n      <td>19,453,561</td>\n      <td>1,731.910</td>\n      <td>47,126.40</td>\n      <td>122,056.82</td>\n      <td>412</td>\n      <td>159\\n</td>\n      <td>NaN</td>\n      <td>NaN</td>\n    </tr>\n    <tr>\n      <th>7</th>\n      <td>Sources:[12][13][14] and see individual boroug...</td>\n      <td>NaN</td>\n      <td>NaN</td>\n      <td>NaN</td>\n      <td>NaN</td>\n      <td>NaN</td>\n      <td>NaN</td>\n      <td>NaN</td>\n      <td>NaN</td>\n    </tr>\n  </tbody>\n</table>\n</div>"
                    },
                    "metadata": {}
                }
            ]
        },
        {
            "metadata": {},
            "cell_type": "code",
            "source": "Pop_data['Borough']=Pop_data['Borough'].replace(to_replace='\\n', value='', regex=True)\nPop_data['County']=Pop_data['County'].replace(to_replace='\\n', value='', regex=True)\nPop_data['Estimate_2017']=Pop_data['Estimate_2017'].replace(to_replace='\\n', value='', regex=True)\nPop_data['square_miles']=Pop_data['square_miles'].replace(to_replace='\\n', value='', regex=True)\nPop_data['square_km']=Pop_data['square_km'].replace(to_replace='\\n', value='', regex=True)\nPop_data['persons/mi2']=Pop_data['persons/mi2'].replace(to_replace='\\n', value='', regex=True)\nPop_data['persons/km2\\n']=Pop_data['persons/km2\\n'].replace(to_replace='\\n', value='', regex=True)\nPop_data",
            "execution_count": 6,
            "outputs": [
                {
                    "output_type": "execute_result",
                    "execution_count": 6,
                    "data": {
                        "text/plain": "                                             Borough       County  \\\n0                                          The Bronx        Bronx   \n1                                           Brooklyn        Kings   \n2                                          Manhattan     New York   \n3                                             Queens       Queens   \n4                                      Staten Island     Richmond   \n5                                   City of New York    8,336,817   \n6                                  State of New York   19,453,561   \n7  Sources:[12][13][14] and see individual boroug...          NaN   \n\n  Estimate_2017      GDP\\n square_miles square_km persons_sq_mi  persons/mi2  \\\n0     1,418,207   42.695\\n        42.10    109.04      33,867\\n          NaN   \n1     2,559,903   91.559\\n        70.82    183.42      36,147\\n          NaN   \n2     1,628,706  600.244\\n        22.83     59.13      71,341\\n          NaN   \n3     2,253,858   93.310\\n       108.53    281.09      20,767\\n          NaN   \n4       476,143   14.514\\n        58.37    151.18       8,157\\n          NaN   \n5       842.343     302.64       783.83    27,547      10,636\\n          NaN   \n6     1,731.910  47,126.40   122,056.82       412         159\\n          NaN   \n7           NaN        NaN          NaN       NaN           NaN          NaN   \n\n   persons/km2\\n  \n0            NaN  \n1            NaN  \n2            NaN  \n3            NaN  \n4            NaN  \n5            NaN  \n6            NaN  \n7            NaN  ",
                        "text/html": "<div>\n<style scoped>\n    .dataframe tbody tr th:only-of-type {\n        vertical-align: middle;\n    }\n\n    .dataframe tbody tr th {\n        vertical-align: top;\n    }\n\n    .dataframe thead th {\n        text-align: right;\n    }\n</style>\n<table border=\"1\" class=\"dataframe\">\n  <thead>\n    <tr style=\"text-align: right;\">\n      <th></th>\n      <th>Borough</th>\n      <th>County</th>\n      <th>Estimate_2017</th>\n      <th>GDP\\n</th>\n      <th>square_miles</th>\n      <th>square_km</th>\n      <th>persons_sq_mi</th>\n      <th>persons/mi2</th>\n      <th>persons/km2\\n</th>\n    </tr>\n  </thead>\n  <tbody>\n    <tr>\n      <th>0</th>\n      <td>The Bronx</td>\n      <td>Bronx</td>\n      <td>1,418,207</td>\n      <td>42.695\\n</td>\n      <td>42.10</td>\n      <td>109.04</td>\n      <td>33,867\\n</td>\n      <td>NaN</td>\n      <td>NaN</td>\n    </tr>\n    <tr>\n      <th>1</th>\n      <td>Brooklyn</td>\n      <td>Kings</td>\n      <td>2,559,903</td>\n      <td>91.559\\n</td>\n      <td>70.82</td>\n      <td>183.42</td>\n      <td>36,147\\n</td>\n      <td>NaN</td>\n      <td>NaN</td>\n    </tr>\n    <tr>\n      <th>2</th>\n      <td>Manhattan</td>\n      <td>New York</td>\n      <td>1,628,706</td>\n      <td>600.244\\n</td>\n      <td>22.83</td>\n      <td>59.13</td>\n      <td>71,341\\n</td>\n      <td>NaN</td>\n      <td>NaN</td>\n    </tr>\n    <tr>\n      <th>3</th>\n      <td>Queens</td>\n      <td>Queens</td>\n      <td>2,253,858</td>\n      <td>93.310\\n</td>\n      <td>108.53</td>\n      <td>281.09</td>\n      <td>20,767\\n</td>\n      <td>NaN</td>\n      <td>NaN</td>\n    </tr>\n    <tr>\n      <th>4</th>\n      <td>Staten Island</td>\n      <td>Richmond</td>\n      <td>476,143</td>\n      <td>14.514\\n</td>\n      <td>58.37</td>\n      <td>151.18</td>\n      <td>8,157\\n</td>\n      <td>NaN</td>\n      <td>NaN</td>\n    </tr>\n    <tr>\n      <th>5</th>\n      <td>City of New York</td>\n      <td>8,336,817</td>\n      <td>842.343</td>\n      <td>302.64</td>\n      <td>783.83</td>\n      <td>27,547</td>\n      <td>10,636\\n</td>\n      <td>NaN</td>\n      <td>NaN</td>\n    </tr>\n    <tr>\n      <th>6</th>\n      <td>State of New York</td>\n      <td>19,453,561</td>\n      <td>1,731.910</td>\n      <td>47,126.40</td>\n      <td>122,056.82</td>\n      <td>412</td>\n      <td>159\\n</td>\n      <td>NaN</td>\n      <td>NaN</td>\n    </tr>\n    <tr>\n      <th>7</th>\n      <td>Sources:[12][13][14] and see individual boroug...</td>\n      <td>NaN</td>\n      <td>NaN</td>\n      <td>NaN</td>\n      <td>NaN</td>\n      <td>NaN</td>\n      <td>NaN</td>\n      <td>NaN</td>\n      <td>NaN</td>\n    </tr>\n  </tbody>\n</table>\n</div>"
                    },
                    "metadata": {}
                }
            ]
        },
        {
            "metadata": {},
            "cell_type": "code",
            "source": "Pop_data.loc[5:,['persons/mi2','persons/km2\\n']] = Pop_data.loc[2:,['persons/mi2','persons/km2\\n']].shift(1,axis=1)\nPop_data.loc[5:,['square_km','persons/mi2']] = Pop_data.loc[2:,['square_km','persons/mi2']].shift(1,axis=1)\nPop_data.loc[5:,['square_miles','square_km']] = Pop_data.loc[2:,['square_miles','square_km']].shift(1,axis=1)\nPop_data.loc[5:,['Estimate_2017','square_miles']] = Pop_data.loc[2:,['Estimate_2017','square_miles']].shift(1,axis=1)\nPop_data.loc[5:,['County','Estimate_2017']] = Pop_data.loc[2:,['County','Estimate_2017']].shift(1,axis=1)\nPop_data.loc[5:,['Borough','County']] = Pop_data.loc[2:,['Borough','County']].shift(1,axis=1)\nPop_data",
            "execution_count": 7,
            "outputs": [
                {
                    "output_type": "execute_result",
                    "execution_count": 7,
                    "data": {
                        "text/plain": "         Borough                                             County  \\\n0      The Bronx                                              Bronx   \n1       Brooklyn                                              Kings   \n2      Manhattan                                           New York   \n3         Queens                                             Queens   \n4  Staten Island                                           Richmond   \n5            NaN                                   City of New York   \n6            NaN                                  State of New York   \n7            NaN  Sources:[12][13][14] and see individual boroug...   \n\n  Estimate_2017      GDP\\n square_miles   square_km persons_sq_mi persons/mi2  \\\n0     1,418,207   42.695\\n        42.10      109.04      33,867\\n         NaN   \n1     2,559,903   91.559\\n        70.82      183.42      36,147\\n         NaN   \n2     1,628,706  600.244\\n        22.83       59.13      71,341\\n         NaN   \n3     2,253,858   93.310\\n       108.53      281.09      20,767\\n         NaN   \n4       476,143   14.514\\n        58.37      151.18       8,157\\n         NaN   \n5     8,336,817     302.64      842.343      783.83      10,636\\n      27,547   \n6    19,453,561  47,126.40    1,731.910  122,056.82         159\\n         412   \n7           NaN        NaN          NaN         NaN           NaN         NaN   \n\n   persons/km2\\n  \n0            NaN  \n1            NaN  \n2            NaN  \n3            NaN  \n4            NaN  \n5            NaN  \n6            NaN  \n7            NaN  ",
                        "text/html": "<div>\n<style scoped>\n    .dataframe tbody tr th:only-of-type {\n        vertical-align: middle;\n    }\n\n    .dataframe tbody tr th {\n        vertical-align: top;\n    }\n\n    .dataframe thead th {\n        text-align: right;\n    }\n</style>\n<table border=\"1\" class=\"dataframe\">\n  <thead>\n    <tr style=\"text-align: right;\">\n      <th></th>\n      <th>Borough</th>\n      <th>County</th>\n      <th>Estimate_2017</th>\n      <th>GDP\\n</th>\n      <th>square_miles</th>\n      <th>square_km</th>\n      <th>persons_sq_mi</th>\n      <th>persons/mi2</th>\n      <th>persons/km2\\n</th>\n    </tr>\n  </thead>\n  <tbody>\n    <tr>\n      <th>0</th>\n      <td>The Bronx</td>\n      <td>Bronx</td>\n      <td>1,418,207</td>\n      <td>42.695\\n</td>\n      <td>42.10</td>\n      <td>109.04</td>\n      <td>33,867\\n</td>\n      <td>NaN</td>\n      <td>NaN</td>\n    </tr>\n    <tr>\n      <th>1</th>\n      <td>Brooklyn</td>\n      <td>Kings</td>\n      <td>2,559,903</td>\n      <td>91.559\\n</td>\n      <td>70.82</td>\n      <td>183.42</td>\n      <td>36,147\\n</td>\n      <td>NaN</td>\n      <td>NaN</td>\n    </tr>\n    <tr>\n      <th>2</th>\n      <td>Manhattan</td>\n      <td>New York</td>\n      <td>1,628,706</td>\n      <td>600.244\\n</td>\n      <td>22.83</td>\n      <td>59.13</td>\n      <td>71,341\\n</td>\n      <td>NaN</td>\n      <td>NaN</td>\n    </tr>\n    <tr>\n      <th>3</th>\n      <td>Queens</td>\n      <td>Queens</td>\n      <td>2,253,858</td>\n      <td>93.310\\n</td>\n      <td>108.53</td>\n      <td>281.09</td>\n      <td>20,767\\n</td>\n      <td>NaN</td>\n      <td>NaN</td>\n    </tr>\n    <tr>\n      <th>4</th>\n      <td>Staten Island</td>\n      <td>Richmond</td>\n      <td>476,143</td>\n      <td>14.514\\n</td>\n      <td>58.37</td>\n      <td>151.18</td>\n      <td>8,157\\n</td>\n      <td>NaN</td>\n      <td>NaN</td>\n    </tr>\n    <tr>\n      <th>5</th>\n      <td>NaN</td>\n      <td>City of New York</td>\n      <td>8,336,817</td>\n      <td>302.64</td>\n      <td>842.343</td>\n      <td>783.83</td>\n      <td>10,636\\n</td>\n      <td>27,547</td>\n      <td>NaN</td>\n    </tr>\n    <tr>\n      <th>6</th>\n      <td>NaN</td>\n      <td>State of New York</td>\n      <td>19,453,561</td>\n      <td>47,126.40</td>\n      <td>1,731.910</td>\n      <td>122,056.82</td>\n      <td>159\\n</td>\n      <td>412</td>\n      <td>NaN</td>\n    </tr>\n    <tr>\n      <th>7</th>\n      <td>NaN</td>\n      <td>Sources:[12][13][14] and see individual boroug...</td>\n      <td>NaN</td>\n      <td>NaN</td>\n      <td>NaN</td>\n      <td>NaN</td>\n      <td>NaN</td>\n      <td>NaN</td>\n      <td>NaN</td>\n    </tr>\n  </tbody>\n</table>\n</div>"
                    },
                    "metadata": {}
                }
            ]
        },
        {
            "metadata": {},
            "cell_type": "code",
            "source": "Pop_data = Pop_data.fillna('')\nPop_data",
            "execution_count": 8,
            "outputs": [
                {
                    "output_type": "execute_result",
                    "execution_count": 8,
                    "data": {
                        "text/plain": "         Borough                                             County  \\\n0      The Bronx                                              Bronx   \n1       Brooklyn                                              Kings   \n2      Manhattan                                           New York   \n3         Queens                                             Queens   \n4  Staten Island                                           Richmond   \n5                                                  City of New York   \n6                                                 State of New York   \n7                 Sources:[12][13][14] and see individual boroug...   \n\n  Estimate_2017      GDP\\n square_miles   square_km persons_sq_mi persons/mi2  \\\n0     1,418,207   42.695\\n        42.10      109.04      33,867\\n               \n1     2,559,903   91.559\\n        70.82      183.42      36,147\\n               \n2     1,628,706  600.244\\n        22.83       59.13      71,341\\n               \n3     2,253,858   93.310\\n       108.53      281.09      20,767\\n               \n4       476,143   14.514\\n        58.37      151.18       8,157\\n               \n5     8,336,817     302.64      842.343      783.83      10,636\\n      27,547   \n6    19,453,561  47,126.40    1,731.910  122,056.82         159\\n         412   \n7                                                                               \n\n  persons/km2\\n  \n0                \n1                \n2                \n3                \n4                \n5                \n6                \n7                ",
                        "text/html": "<div>\n<style scoped>\n    .dataframe tbody tr th:only-of-type {\n        vertical-align: middle;\n    }\n\n    .dataframe tbody tr th {\n        vertical-align: top;\n    }\n\n    .dataframe thead th {\n        text-align: right;\n    }\n</style>\n<table border=\"1\" class=\"dataframe\">\n  <thead>\n    <tr style=\"text-align: right;\">\n      <th></th>\n      <th>Borough</th>\n      <th>County</th>\n      <th>Estimate_2017</th>\n      <th>GDP\\n</th>\n      <th>square_miles</th>\n      <th>square_km</th>\n      <th>persons_sq_mi</th>\n      <th>persons/mi2</th>\n      <th>persons/km2\\n</th>\n    </tr>\n  </thead>\n  <tbody>\n    <tr>\n      <th>0</th>\n      <td>The Bronx</td>\n      <td>Bronx</td>\n      <td>1,418,207</td>\n      <td>42.695\\n</td>\n      <td>42.10</td>\n      <td>109.04</td>\n      <td>33,867\\n</td>\n      <td></td>\n      <td></td>\n    </tr>\n    <tr>\n      <th>1</th>\n      <td>Brooklyn</td>\n      <td>Kings</td>\n      <td>2,559,903</td>\n      <td>91.559\\n</td>\n      <td>70.82</td>\n      <td>183.42</td>\n      <td>36,147\\n</td>\n      <td></td>\n      <td></td>\n    </tr>\n    <tr>\n      <th>2</th>\n      <td>Manhattan</td>\n      <td>New York</td>\n      <td>1,628,706</td>\n      <td>600.244\\n</td>\n      <td>22.83</td>\n      <td>59.13</td>\n      <td>71,341\\n</td>\n      <td></td>\n      <td></td>\n    </tr>\n    <tr>\n      <th>3</th>\n      <td>Queens</td>\n      <td>Queens</td>\n      <td>2,253,858</td>\n      <td>93.310\\n</td>\n      <td>108.53</td>\n      <td>281.09</td>\n      <td>20,767\\n</td>\n      <td></td>\n      <td></td>\n    </tr>\n    <tr>\n      <th>4</th>\n      <td>Staten Island</td>\n      <td>Richmond</td>\n      <td>476,143</td>\n      <td>14.514\\n</td>\n      <td>58.37</td>\n      <td>151.18</td>\n      <td>8,157\\n</td>\n      <td></td>\n      <td></td>\n    </tr>\n    <tr>\n      <th>5</th>\n      <td></td>\n      <td>City of New York</td>\n      <td>8,336,817</td>\n      <td>302.64</td>\n      <td>842.343</td>\n      <td>783.83</td>\n      <td>10,636\\n</td>\n      <td>27,547</td>\n      <td></td>\n    </tr>\n    <tr>\n      <th>6</th>\n      <td></td>\n      <td>State of New York</td>\n      <td>19,453,561</td>\n      <td>47,126.40</td>\n      <td>1,731.910</td>\n      <td>122,056.82</td>\n      <td>159\\n</td>\n      <td>412</td>\n      <td></td>\n    </tr>\n    <tr>\n      <th>7</th>\n      <td></td>\n      <td>Sources:[12][13][14] and see individual boroug...</td>\n      <td></td>\n      <td></td>\n      <td></td>\n      <td></td>\n      <td></td>\n      <td></td>\n      <td></td>\n    </tr>\n  </tbody>\n</table>\n</div>"
                    },
                    "metadata": {}
                }
            ]
        },
        {
            "metadata": {},
            "cell_type": "code",
            "source": "i = Pop_data[((Pop_data.County == 'Sources: [2] and see individual borough articles'))].index\nPop_data.drop(i)",
            "execution_count": 9,
            "outputs": [
                {
                    "output_type": "execute_result",
                    "execution_count": 9,
                    "data": {
                        "text/plain": "         Borough                                             County  \\\n0      The Bronx                                              Bronx   \n1       Brooklyn                                              Kings   \n2      Manhattan                                           New York   \n3         Queens                                             Queens   \n4  Staten Island                                           Richmond   \n5                                                  City of New York   \n6                                                 State of New York   \n7                 Sources:[12][13][14] and see individual boroug...   \n\n  Estimate_2017      GDP\\n square_miles   square_km persons_sq_mi persons/mi2  \\\n0     1,418,207   42.695\\n        42.10      109.04      33,867\\n               \n1     2,559,903   91.559\\n        70.82      183.42      36,147\\n               \n2     1,628,706  600.244\\n        22.83       59.13      71,341\\n               \n3     2,253,858   93.310\\n       108.53      281.09      20,767\\n               \n4       476,143   14.514\\n        58.37      151.18       8,157\\n               \n5     8,336,817     302.64      842.343      783.83      10,636\\n      27,547   \n6    19,453,561  47,126.40    1,731.910  122,056.82         159\\n         412   \n7                                                                               \n\n  persons/km2\\n  \n0                \n1                \n2                \n3                \n4                \n5                \n6                \n7                ",
                        "text/html": "<div>\n<style scoped>\n    .dataframe tbody tr th:only-of-type {\n        vertical-align: middle;\n    }\n\n    .dataframe tbody tr th {\n        vertical-align: top;\n    }\n\n    .dataframe thead th {\n        text-align: right;\n    }\n</style>\n<table border=\"1\" class=\"dataframe\">\n  <thead>\n    <tr style=\"text-align: right;\">\n      <th></th>\n      <th>Borough</th>\n      <th>County</th>\n      <th>Estimate_2017</th>\n      <th>GDP\\n</th>\n      <th>square_miles</th>\n      <th>square_km</th>\n      <th>persons_sq_mi</th>\n      <th>persons/mi2</th>\n      <th>persons/km2\\n</th>\n    </tr>\n  </thead>\n  <tbody>\n    <tr>\n      <th>0</th>\n      <td>The Bronx</td>\n      <td>Bronx</td>\n      <td>1,418,207</td>\n      <td>42.695\\n</td>\n      <td>42.10</td>\n      <td>109.04</td>\n      <td>33,867\\n</td>\n      <td></td>\n      <td></td>\n    </tr>\n    <tr>\n      <th>1</th>\n      <td>Brooklyn</td>\n      <td>Kings</td>\n      <td>2,559,903</td>\n      <td>91.559\\n</td>\n      <td>70.82</td>\n      <td>183.42</td>\n      <td>36,147\\n</td>\n      <td></td>\n      <td></td>\n    </tr>\n    <tr>\n      <th>2</th>\n      <td>Manhattan</td>\n      <td>New York</td>\n      <td>1,628,706</td>\n      <td>600.244\\n</td>\n      <td>22.83</td>\n      <td>59.13</td>\n      <td>71,341\\n</td>\n      <td></td>\n      <td></td>\n    </tr>\n    <tr>\n      <th>3</th>\n      <td>Queens</td>\n      <td>Queens</td>\n      <td>2,253,858</td>\n      <td>93.310\\n</td>\n      <td>108.53</td>\n      <td>281.09</td>\n      <td>20,767\\n</td>\n      <td></td>\n      <td></td>\n    </tr>\n    <tr>\n      <th>4</th>\n      <td>Staten Island</td>\n      <td>Richmond</td>\n      <td>476,143</td>\n      <td>14.514\\n</td>\n      <td>58.37</td>\n      <td>151.18</td>\n      <td>8,157\\n</td>\n      <td></td>\n      <td></td>\n    </tr>\n    <tr>\n      <th>5</th>\n      <td></td>\n      <td>City of New York</td>\n      <td>8,336,817</td>\n      <td>302.64</td>\n      <td>842.343</td>\n      <td>783.83</td>\n      <td>10,636\\n</td>\n      <td>27,547</td>\n      <td></td>\n    </tr>\n    <tr>\n      <th>6</th>\n      <td></td>\n      <td>State of New York</td>\n      <td>19,453,561</td>\n      <td>47,126.40</td>\n      <td>1,731.910</td>\n      <td>122,056.82</td>\n      <td>159\\n</td>\n      <td>412</td>\n      <td></td>\n    </tr>\n    <tr>\n      <th>7</th>\n      <td></td>\n      <td>Sources:[12][13][14] and see individual boroug...</td>\n      <td></td>\n      <td></td>\n      <td></td>\n      <td></td>\n      <td></td>\n      <td></td>\n      <td></td>\n    </tr>\n  </tbody>\n</table>\n</div>"
                    },
                    "metadata": {}
                }
            ]
        },
        {
            "metadata": {},
            "cell_type": "code",
            "source": "Pop_data.to_csv('BON2_POPULATION.csv',index=False)",
            "execution_count": 18,
            "outputs": []
        }
    ],
    "metadata": {
        "kernelspec": {
            "name": "python3",
            "display_name": "Python 3.7",
            "language": "python"
        },
        "language_info": {
            "name": "python",
            "version": "3.7.10",
            "mimetype": "text/x-python",
            "codemirror_mode": {
                "name": "ipython",
                "version": 3
            },
            "pygments_lexer": "ipython3",
            "nbconvert_exporter": "python",
            "file_extension": ".py"
        }
    },
    "nbformat": 4,
    "nbformat_minor": 1
}